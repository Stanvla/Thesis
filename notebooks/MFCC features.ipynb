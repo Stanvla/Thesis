{
 "cells": [
  {
   "cell_type": "code",
   "execution_count": 9,
   "id": "a9854302",
   "metadata": {},
   "outputs": [
    {
     "data": {
      "text/plain": [
       "'/lnet/express/work/people/stankov/alignment/Thesis/notebooks'"
      ]
     },
     "execution_count": 9,
     "metadata": {},
     "output_type": "execute_result"
    }
   ],
   "source": [
    "from torch.utils.data import Dataset, DataLoader\n",
    "import torchaudio\n",
    "import torchtext\n",
    "import torch\n",
    "import torch.nn as nn\n",
    "from matplotlib import pyplot as plt\n",
    "from IPython.display import Audio, display\n",
    "from collections import Counter, OrderedDict\n",
    "import ast\n",
    "import os\n",
    "import pickle\n",
    "import pandas as pd\n",
    "\n",
    "from tqdm.notebook import tqdm\n",
    "\n",
    "os.getcwd()"
   ]
  },
  {
   "cell_type": "code",
   "execution_count": 7,
   "id": "0cc2bd0d",
   "metadata": {},
   "outputs": [
    {
     "data": {
      "text/plain": [
       "'/lnet/express/work/people/stankov/alignment'"
      ]
     },
     "execution_count": 7,
     "metadata": {},
     "output_type": "execute_result"
    }
   ],
   "source": [
    "def parent_dir(dir_name, steps_back):\n",
    "    for i in range(steps_back):\n",
    "        dir_name = os.path.dirname(dir_name)\n",
    "    return dir_name\n",
    "\n",
    "# extract path to the main folder \n",
    "base_dir = parent_dir(os.getcwd(), 2)\n",
    "base_dir"
   ]
  },
  {
   "cell_type": "code",
   "execution_count": 10,
   "id": "695b88a2",
   "metadata": {},
   "outputs": [],
   "source": [
    "# read dataframe with segment information\n",
    "splitted_df = pd.read_csv(os.path.join(base_dir, 'split_filelist.csv'), sep='\\t')\n",
    "splitted_df['speakers__segments'] = splitted_df['speakers__segments'].apply(lambda x: ast.literal_eval(x))"
   ]
  },
  {
   "cell_type": "code",
   "execution_count": 11,
   "id": "7f48958e",
   "metadata": {},
   "outputs": [
    {
     "data": {
      "text/plain": [
       "['speakers__segments',\n",
       " 'words_cnt__segments',\n",
       " 'chars_cnt__segments',\n",
       " 'duration__segments',\n",
       " 'speakers_cnt__segments',\n",
       " 'missed_words__segments',\n",
       " 'missed_words_percentage__segments',\n",
       " 'missed_chars__segments',\n",
       " 'missed_chars_percentage__segments',\n",
       " 'recognized_sound_coverage__segments',\n",
       " 'correct_end__segments',\n",
       " 'avg_char_duration__segments',\n",
       " 'std_char_duration__segments',\n",
       " 'median_char_duration__segments',\n",
       " 'char_duration_60__segments',\n",
       " 'char_duration_70__segments',\n",
       " 'char_duration_75__segments',\n",
       " 'char_duration_80__segments',\n",
       " 'char_duration_90__segments',\n",
       " 'avg_norm_word_dist__segments',\n",
       " 'std_norm_word_dist__segments',\n",
       " 'median_norm_word_dist__segments',\n",
       " 'char_norm_word_dist_60__segments',\n",
       " 'char_norm_word_dist_70__segments',\n",
       " 'char_norm_word_dist_75__segments',\n",
       " 'char_norm_word_dist_80__segments',\n",
       " 'char_norm_word_dist_90__segments',\n",
       " 'avg_norm_word_dist_with_gaps__segments',\n",
       " 'std_norm_word_dist_with_gaps__segments',\n",
       " 'median_norm_word_dist_with_gaps__segments',\n",
       " 'char_norm_word_dist_with_gaps_60__segments',\n",
       " 'char_norm_word_dist_with_gaps_70__segments',\n",
       " 'char_norm_word_dist_with_gaps_75__segments',\n",
       " 'char_norm_word_dist_with_gaps_80__segments',\n",
       " 'char_norm_word_dist_with_gaps_90__segments',\n",
       " 'mp3_name',\n",
       " 'segment_index__segments',\n",
       " 'continuous_gaps_cnt_normalized1__file',\n",
       " 'normalized_dist_with_gaps_80__file',\n",
       " 'name',\n",
       " 'path',\n",
       " 'type']"
      ]
     },
     "execution_count": 11,
     "metadata": {},
     "output_type": "execute_result"
    }
   ],
   "source": [
    "splitted_df.columns.tolist()"
   ]
  },
  {
   "cell_type": "code",
   "execution_count": 12,
   "id": "b126ecb2",
   "metadata": {},
   "outputs": [],
   "source": [
    "# get splits of the dataset\n",
    "train_df = splitted_df[splitted_df.type == 'train']\n",
    "other_df = splitted_df[splitted_df.type == 'other']\n",
    "context_dev = splitted_df[splitted_df.type == 'context_dev']\n",
    "context_test = splitted_df[splitted_df.type == 'context_test']"
   ]
  },
  {
   "cell_type": "code",
   "execution_count": null,
   "id": "b0c9ce16",
   "metadata": {},
   "outputs": [],
   "source": [
    "# load the df with metadata\n",
    "splitted_df = pd.read_csv(os.path.join(base_dir, 'split_filelist.csv'), sep='\\t')\n",
    "splitted_df['speakers__segments'] = splitted_df['speakers__segments'].apply(lambda x: ast.literal_eval(x))"
   ]
  }
 ],
 "metadata": {
  "kernelspec": {
   "display_name": "Python 3",
   "language": "python",
   "name": "python3"
  },
  "language_info": {
   "codemirror_mode": {
    "name": "ipython",
    "version": 3
   },
   "file_extension": ".py",
   "mimetype": "text/x-python",
   "name": "python",
   "nbconvert_exporter": "python",
   "pygments_lexer": "ipython3",
   "version": "3.6.9"
  }
 },
 "nbformat": 4,
 "nbformat_minor": 5
}
