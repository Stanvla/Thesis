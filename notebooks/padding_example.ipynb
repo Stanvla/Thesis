{
 "cells": [
  {
   "cell_type": "code",
   "execution_count": 2,
   "metadata": {
    "pycharm": {
     "name": "#%%\n"
    }
   },
   "outputs": [
    {
     "data": {
      "text/plain": [
       "'/home/stankvla/Projects/Python/DiplomaThesis/notebooks'"
      ]
     },
     "execution_count": 2,
     "metadata": {},
     "output_type": "execute_result"
    }
   ],
   "source": [
    "import os\n",
    "os.getcwd()"
   ]
  },
  {
   "cell_type": "code",
   "execution_count": 3,
   "metadata": {
    "pycharm": {
     "name": "#%%\n"
    }
   },
   "outputs": [
    {
     "data": {
      "text/plain": [
       "'/lnet/express/work/people/stankov/alignment/Thesis/notebooks'"
      ]
     },
     "execution_count": 3,
     "metadata": {},
     "output_type": "execute_result"
    }
   ],
   "source": [
    "os.getcwd()"
   ]
  },
  {
   "cell_type": "markdown",
   "metadata": {},
   "source": [
    "# Padding\n",
    "Padding when `center=True`"
   ]
  },
  {
   "cell_type": "code",
   "execution_count": 1,
   "metadata": {},
   "outputs": [],
   "source": [
    "import torch\n",
    "import torch.nn.functional as F"
   ]
  },
  {
   "cell_type": "code",
   "execution_count": 14,
   "metadata": {},
   "outputs": [
    {
     "data": {
      "text/plain": [
       "(tensor([[1., 2., 3., 4., 5., 6., 7., 8., 9.]]), torch.Size([1, 9]))"
      ]
     },
     "execution_count": 14,
     "metadata": {},
     "output_type": "execute_result"
    }
   ],
   "source": [
    "n_fft = 4\n",
    "\n",
    "input = torch.arange(1, 10).unsqueeze(0) + 0.\n",
    "(input, input.shape)"
   ]
  },
  {
   "cell_type": "code",
   "execution_count": 15,
   "metadata": {},
   "outputs": [
    {
     "data": {
      "text/plain": [
       "2"
      ]
     },
     "execution_count": 15,
     "metadata": {},
     "output_type": "execute_result"
    }
   ],
   "source": [
    "signal_dim = input.dim()\n",
    "signal_dim"
   ]
  },
  {
   "cell_type": "code",
   "execution_count": 16,
   "metadata": {},
   "outputs": [
    {
     "data": {
      "text/plain": [
       "[1, 1, 9]"
      ]
     },
     "execution_count": 16,
     "metadata": {},
     "output_type": "execute_result"
    }
   ],
   "source": [
    "extended_shape = [1] * (3 - signal_dim) + list(input.size())\n",
    "extended_shape"
   ]
  },
  {
   "cell_type": "code",
   "execution_count": 18,
   "metadata": {},
   "outputs": [
    {
     "data": {
      "text/plain": [
       "(tensor([[[3., 2., 1., 2., 3., 4., 5., 6., 7., 8., 9., 8., 7.]]]),\n",
       " torch.Size([1, 1, 13]))"
      ]
     },
     "execution_count": 18,
     "metadata": {},
     "output_type": "execute_result"
    }
   ],
   "source": [
    "pad = int(n_fft // 2)\n",
    "padded = F.pad(input.view(extended_shape), [pad, pad], 'reflect')\n",
    "(padded, padded.shape)"
   ]
  },
  {
   "cell_type": "code",
   "execution_count": 21,
   "metadata": {},
   "outputs": [
    {
     "data": {
      "text/plain": [
       "torch.Size([1, 13])"
      ]
     },
     "execution_count": 21,
     "metadata": {},
     "output_type": "execute_result"
    }
   ],
   "source": [
    "padded.shape[-signal_dim:]"
   ]
  },
  {
   "cell_type": "code",
   "execution_count": 20,
   "metadata": {},
   "outputs": [
    {
     "data": {
      "text/plain": [
       "tensor([[3., 2., 1., 2., 3., 4., 5., 6., 7., 8., 9., 8., 7.]])"
      ]
     },
     "execution_count": 20,
     "metadata": {},
     "output_type": "execute_result"
    }
   ],
   "source": [
    "padded.view(padded.shape[-signal_dim:])"
   ]
  },
  {
   "cell_type": "code",
   "execution_count": 25,
   "metadata": {},
   "outputs": [
    {
     "data": {
      "text/plain": [
       "9"
      ]
     },
     "execution_count": 25,
     "metadata": {},
     "output_type": "execute_result"
    }
   ],
   "source": [
    "input.size(-1)"
   ]
  },
  {
   "cell_type": "code",
   "execution_count": 24,
   "metadata": {},
   "outputs": [
    {
     "data": {
      "text/plain": [
       "13"
      ]
     },
     "execution_count": 24,
     "metadata": {},
     "output_type": "execute_result"
    }
   ],
   "source": [
    "padded.size(-1)\n"
   ]
  },
  {
   "cell_type": "markdown",
   "metadata": {},
   "source": [
    "Calculate number of frames after stft with padding\n",
    "\n",
    "`n_frames = (len(wav) - window_size) / hop_size + 1`\n",
    "\n",
    "Suppose: \n",
    "* `n_fft` is even,\n",
    "* `window_size = n_fft`,\n",
    "* `hop_size = window_size / 2 = n_fft / 2`\n",
    "* we applied padding `len(wav_padded) = len(wav_orig) + n_fft`\n",
    "\n",
    "\n",
    "Then\n",
    "`n_frames = (len(wav_padded) - window_size) / hop_size + 1` \n",
    "\n",
    "Thus\n",
    "`n_frames = len(wav_orig) / hop_size + 1 = 2len(wav_orig) / n_fft + 1`"
   ]
  },
  {
   "cell_type": "code",
   "execution_count": null,
   "metadata": {},
   "outputs": [],
   "source": [
    "def compute_frames(wave, n_fft):\n",
    "    return 2 * wave.size(-1) // n_fft + 1"
   ]
  },
  {
   "cell_type": "markdown",
   "metadata": {},
   "source": [
    "------------"
   ]
  },
  {
   "cell_type": "code",
   "execution_count": 38,
   "metadata": {},
   "outputs": [
    {
     "data": {
      "text/plain": [
       "tensor([[[ 0,  1,  2,  3,  4,  5,  6,  7,  8,  9],\n",
       "         [10, 11, 12, 13, 14, 15, 16, 17, 18, 19]],\n",
       "\n",
       "        [[20, 21, 22, 23, 24, 25, 26, 27, 28, 29],\n",
       "         [30, 31, 32, 33, 34, 35, 36, 37, 38, 39]],\n",
       "\n",
       "        [[40, 41, 42, 43, 44, 45, 46, 47, 48, 49],\n",
       "         [50, 51, 52, 53, 54, 55, 56, 57, 58, 59]]])"
      ]
     },
     "execution_count": 38,
     "metadata": {},
     "output_type": "execute_result"
    }
   ],
   "source": [
    "a = torch.arange(60).reshape(3, 2, 10)\n",
    "a"
   ]
  },
  {
   "cell_type": "code",
   "execution_count": 39,
   "metadata": {},
   "outputs": [
    {
     "data": {
      "text/plain": [
       "tensor([[[  0,  -1,  -2,  -3,  -4,  -5,  -6,  -7,  -8,  -9],\n",
       "         [-10, -11, -12, -13, -14, -15, -16, -17, -18, -19]],\n",
       "\n",
       "        [[-20, -21, -22, -23, -24, -25, -26, -27, -28, -29],\n",
       "         [-30, -31, -32, -33, -34, -35, -36, -37, -38, -39]],\n",
       "\n",
       "        [[-40, -41, -42, -43, -44, -45, -46, -47, -48, -49],\n",
       "         [-50, -51, -52, -53, -54, -55, -56, -57, -58, -59]]])"
      ]
     },
     "execution_count": 39,
     "metadata": {},
     "output_type": "execute_result"
    }
   ],
   "source": [
    "b = torch.arange(0, -60, -1).reshape(3,2,10)\n",
    "b"
   ]
  },
  {
   "cell_type": "code",
   "execution_count": 41,
   "metadata": {},
   "outputs": [
    {
     "data": {
      "text/plain": [
       "tensor([[[  0,  10,  20,  30,  40,  50,  60,  70,  80,  90],\n",
       "         [100, 110, 120, 130, 140, 150, 160, 170, 180, 190]],\n",
       "\n",
       "        [[200, 210, 220, 230, 240, 250, 260, 270, 280, 290],\n",
       "         [300, 310, 320, 330, 340, 350, 360, 370, 380, 390]],\n",
       "\n",
       "        [[400, 410, 420, 430, 440, 450, 460, 470, 480, 490],\n",
       "         [500, 510, 520, 530, 540, 550, 560, 570, 580, 590]]])"
      ]
     },
     "execution_count": 41,
     "metadata": {},
     "output_type": "execute_result"
    }
   ],
   "source": [
    "c = torch.arange(0, 600, 10).reshape(3,2,10)\n",
    "c"
   ]
  },
  {
   "cell_type": "code",
   "execution_count": 43,
   "metadata": {},
   "outputs": [
    {
     "data": {
      "text/plain": [
       "tensor([[[  0,   1,   2,   3,   4,   5,   6,   7,   8,   9],\n",
       "         [ 10,  11,  12,  13,  14,  15,  16,  17,  18,  19],\n",
       "         [  0,  -1,  -2,  -3,  -4,  -5,  -6,  -7,  -8,  -9],\n",
       "         [-10, -11, -12, -13, -14, -15, -16, -17, -18, -19],\n",
       "         [  0,  10,  20,  30,  40,  50,  60,  70,  80,  90],\n",
       "         [100, 110, 120, 130, 140, 150, 160, 170, 180, 190]],\n",
       "\n",
       "        [[ 20,  21,  22,  23,  24,  25,  26,  27,  28,  29],\n",
       "         [ 30,  31,  32,  33,  34,  35,  36,  37,  38,  39],\n",
       "         [-20, -21, -22, -23, -24, -25, -26, -27, -28, -29],\n",
       "         [-30, -31, -32, -33, -34, -35, -36, -37, -38, -39],\n",
       "         [200, 210, 220, 230, 240, 250, 260, 270, 280, 290],\n",
       "         [300, 310, 320, 330, 340, 350, 360, 370, 380, 390]],\n",
       "\n",
       "        [[ 40,  41,  42,  43,  44,  45,  46,  47,  48,  49],\n",
       "         [ 50,  51,  52,  53,  54,  55,  56,  57,  58,  59],\n",
       "         [-40, -41, -42, -43, -44, -45, -46, -47, -48, -49],\n",
       "         [-50, -51, -52, -53, -54, -55, -56, -57, -58, -59],\n",
       "         [400, 410, 420, 430, 440, 450, 460, 470, 480, 490],\n",
       "         [500, 510, 520, 530, 540, 550, 560, 570, 580, 590]]])"
      ]
     },
     "execution_count": 43,
     "metadata": {},
     "output_type": "execute_result"
    }
   ],
   "source": [
    "torch.cat([a,b, c], axis=1)"
   ]
  },
  {
   "cell_type": "code",
   "execution_count": 50,
   "metadata": {},
   "outputs": [
    {
     "data": {
      "text/plain": [
       "tensor([[[  0,  10,   0, -10,   0, 100],\n",
       "         [  1,  11,  -1, -11,  10, 110],\n",
       "         [  2,  12,  -2, -12,  20, 120],\n",
       "         [  3,  13,  -3, -13,  30, 130],\n",
       "         [  4,  14,  -4, -14,  40, 140],\n",
       "         [  5,  15,  -5, -15,  50, 150],\n",
       "         [  6,  16,  -6, -16,  60, 160],\n",
       "         [  7,  17,  -7, -17,  70, 170],\n",
       "         [  8,  18,  -8, -18,  80, 180],\n",
       "         [  9,  19,  -9, -19,  90, 190]],\n",
       "\n",
       "        [[ 20,  30, -20, -30, 200, 300],\n",
       "         [ 21,  31, -21, -31, 210, 310],\n",
       "         [ 22,  32, -22, -32, 220, 320],\n",
       "         [ 23,  33, -23, -33, 230, 330],\n",
       "         [ 24,  34, -24, -34, 240, 340],\n",
       "         [ 25,  35, -25, -35, 250, 350],\n",
       "         [ 26,  36, -26, -36, 260, 360],\n",
       "         [ 27,  37, -27, -37, 270, 370],\n",
       "         [ 28,  38, -28, -38, 280, 380],\n",
       "         [ 29,  39, -29, -39, 290, 390]],\n",
       "\n",
       "        [[ 40,  50, -40, -50, 400, 500],\n",
       "         [ 41,  51, -41, -51, 410, 510],\n",
       "         [ 42,  52, -42, -52, 420, 520],\n",
       "         [ 43,  53, -43, -53, 430, 530],\n",
       "         [ 44,  54, -44, -54, 440, 540],\n",
       "         [ 45,  55, -45, -55, 450, 550],\n",
       "         [ 46,  56, -46, -56, 460, 560],\n",
       "         [ 47,  57, -47, -57, 470, 570],\n",
       "         [ 48,  58, -48, -58, 480, 580],\n",
       "         [ 49,  59, -49, -59, 490, 590]]])"
      ]
     },
     "execution_count": 50,
     "metadata": {},
     "output_type": "execute_result"
    }
   ],
   "source": [
    "result = torch.cat([a,b, c], dim=1).permute(0, 2, 1)\n",
    "result"
   ]
  },
  {
   "cell_type": "code",
   "execution_count": 48,
   "metadata": {},
   "outputs": [
    {
     "data": {
      "text/plain": [
       "tensor([[  0,  10,   0, -10,   0, 100],\n",
       "        [  1,  11,  -1, -11,  10, 110],\n",
       "        [  2,  12,  -2, -12,  20, 120],\n",
       "        [  3,  13,  -3, -13,  30, 130],\n",
       "        [  4,  14,  -4, -14,  40, 140],\n",
       "        [  5,  15,  -5, -15,  50, 150],\n",
       "        [  6,  16,  -6, -16,  60, 160],\n",
       "        [  7,  17,  -7, -17,  70, 170],\n",
       "        [  8,  18,  -8, -18,  80, 180],\n",
       "        [  9,  19,  -9, -19,  90, 190]])"
      ]
     },
     "execution_count": 48,
     "metadata": {},
     "output_type": "execute_result"
    }
   ],
   "source": [
    "x = result[0]\n",
    "x"
   ]
  },
  {
   "cell_type": "code",
   "execution_count": 49,
   "metadata": {},
   "outputs": [
    {
     "data": {
      "text/plain": [
       "tensor([[  0,  10,   0, -10,   0, 100],\n",
       "        [  1,  11,  -1, -11,  10, 110],\n",
       "        [  2,  12,  -2, -12,  20, 120],\n",
       "        [  3,  13,  -3, -13,  30, 130]])"
      ]
     },
     "execution_count": 49,
     "metadata": {},
     "output_type": "execute_result"
    }
   ],
   "source": [
    "x[:4]"
   ]
  }
 ],
 "metadata": {
  "kernelspec": {
   "display_name": "Python 3 (ipykernel)",
   "language": "python",
   "name": "python3"
  },
  "language_info": {
   "codemirror_mode": {
    "name": "ipython",
    "version": 3
   },
   "file_extension": ".py",
   "mimetype": "text/x-python",
   "name": "python",
   "nbconvert_exporter": "python",
   "pygments_lexer": "ipython3",
   "version": "3.9.7"
  }
 },
 "nbformat": 4,
 "nbformat_minor": 1
}
