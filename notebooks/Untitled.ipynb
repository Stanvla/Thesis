{
 "cells": [
  {
   "cell_type": "code",
   "execution_count": 1,
   "metadata": {},
   "outputs": [],
   "source": [
    "import torch\n",
    "import torch.nn.functional as F\n",
    "from torchmetrics.functional import accuracy\n",
    "from icecream import ic"
   ]
  },
  {
   "cell_type": "code",
   "execution_count": 7,
   "metadata": {},
   "outputs": [
    {
     "data": {
      "text/plain": [
       "tensor([[0.4140, 0.0044, 0.4308, 0.9380, 0.4694],\n",
       "        [0.9582, 0.6054, 0.6241, 0.4901, 0.3987],\n",
       "        [0.4205, 0.8947, 0.3452, 0.4983, 0.3301],\n",
       "        [0.8823, 0.7114, 0.9835, 0.7917, 0.4293],\n",
       "        [0.3558, 0.2678, 0.7717, 0.9408, 0.4591],\n",
       "        [0.0773, 0.1100, 0.2650, 0.9001, 0.0201],\n",
       "        [0.0532, 0.6323, 0.2431, 0.2888, 0.1640],\n",
       "        [0.6956, 0.2009, 0.6033, 0.3993, 0.5911],\n",
       "        [0.8188, 0.8890, 0.7809, 0.6861, 0.2592],\n",
       "        [0.5465, 0.8402, 0.6783, 0.3311, 0.7982],\n",
       "        [0.7412, 0.5911, 0.1430, 0.7581, 0.0299],\n",
       "        [0.2052, 0.9731, 0.4294, 0.3211, 0.8431],\n",
       "        [0.5247, 0.7191, 0.6029, 0.2741, 0.2892],\n",
       "        [0.3945, 0.1238, 0.6583, 0.7615, 0.4105],\n",
       "        [0.3897, 0.0051, 0.0924, 0.7370, 0.7422],\n",
       "        [0.3087, 0.0970, 0.7310, 0.1690, 0.3536],\n",
       "        [0.9116, 0.3506, 0.8710, 0.2031, 0.7993],\n",
       "        [0.5961, 0.9943, 0.8310, 0.8022, 0.2497]])"
      ]
     },
     "execution_count": 7,
     "metadata": {},
     "output_type": "execute_result"
    }
   ],
   "source": [
    "output = torch.rand((18, 5))\n",
    "output"
   ]
  },
  {
   "cell_type": "code",
   "execution_count": 15,
   "metadata": {},
   "outputs": [
    {
     "data": {
      "text/plain": [
       "tensor([[2, 3, 4, 0, 4, 1, 4, 4, 1, 4, 2, 4, 4, 3, 0, 1, 3, 4]])"
      ]
     },
     "execution_count": 15,
     "metadata": {},
     "output_type": "execute_result"
    }
   ],
   "source": [
    "trg = torch.randint(0, 5, (1,18))\n",
    "trg"
   ]
  },
  {
   "cell_type": "code",
   "execution_count": 16,
   "metadata": {},
   "outputs": [
    {
     "data": {
      "text/plain": [
       "tensor([3, 0, 1, 2, 3, 3, 1, 0, 1, 1, 3, 1, 1, 3, 4, 2, 0, 1])"
      ]
     },
     "execution_count": 16,
     "metadata": {},
     "output_type": "execute_result"
    }
   ],
   "source": [
    "predictions = output.argmax(1)\n",
    "predictions"
   ]
  },
  {
   "cell_type": "code",
   "execution_count": 19,
   "metadata": {},
   "outputs": [
    {
     "data": {
      "text/plain": [
       "tensor(2)"
      ]
     },
     "execution_count": 19,
     "metadata": {},
     "output_type": "execute_result"
    }
   ],
   "source": [
    "torch.sum(predictions == trg)"
   ]
  },
  {
   "cell_type": "code",
   "execution_count": null,
   "metadata": {},
   "outputs": [],
   "source": [
    "def _get_loss_acc(seq, seq_len, mask, trg, reduction):\n",
    "    # at the end extract only seq_len elements\n",
    "    new_mask = mask[:seq_len]\n",
    "    new_seq = seq[:seq_len]\n",
    "    new_trg = trg[:seq_len]\n",
    "    # to do masked_select need to add new dimension to mask\n",
    "    # then need to reshape the result of masked_select, since it flattens the tensor\n",
    "\n",
    "    new_seq = new_seq.masked_select(new_mask.unsqueeze(1)).view(-1, seq.shape[1])\n",
    "    new_trg = new_trg.masked_select(new_mask)\n",
    "    loss = F.cross_entropy(new_seq, new_trg, reduction=self.reduction)\n",
    "    # multiply acc by the number of elements in the sequence\n",
    "    acc = accuracy(new_seq, new_trg) * new_seq.shape[0]\n",
    "    return loss, acc, new_seq.shape[0]\n",
    "\n",
    "\n",
    "def _compute_loss_acc(similarity_scores, frames_cnt, targets, batch_mask_indices, batch_masks, reduction):\n",
    "    # targets.shape = [n_clusterings, batch, n_frames]\n",
    "    # n_frames.shape = [batch, ]\n",
    "    # batch_mask_indices is a list, batch_mask_indices[i] = torch tensor with indices where span mask was applied\n",
    "\n",
    "    # cross_entropy recap\n",
    "    #   The input is expected to contain raw, unnormalized scores for each class.\n",
    "    #   input has to be a Tensor of size either (minibatch, C).\n",
    "    total_mask_loss, total_unmask_loss = 0, 0\n",
    "    total_mask_acc, total_unmask_acc, total_acc = 0, 0, 0\n",
    "\n",
    "    # iterate over different clustering models\n",
    "    for (k, scores), k_target in zip(similarity_scores.items(), targets):\n",
    "        # scores.shape = [batch, n_frames, k]\n",
    "\n",
    "        # metrics for a specific clustering model k\n",
    "        clustering_mask_loss, clustering_unmask_loss = 0, 0\n",
    "        clustering_mask_acc, clustering_unmask_acc, clustering_total_acc = 0, 0, 0\n",
    "        cnt_mask, cnt_unmask, cnt_total = 0, 0, 0\n",
    "\n",
    "        # iterate over sequences in the batch\n",
    "        for seq_score, target, seq_len, mask in zip(scores, k_target, frames_cnt, batch_masks):\n",
    "            # seq_score.shape = [n_frames, k]\n",
    "            # target.shape = [n_frames]\n",
    "            # index_mask.shape = [n_masked_frames] ... differs for each sequence, that is why processing each seq separately\n",
    "            # seq_len is an int\n",
    "\n",
    "            # cross entropy loss and acc over frames without mask\n",
    "            unmask_loss, unmask_acc, unmask_size = _get_loss_acc(seq_score, seq_len, mask, target, reduction)\n",
    "            clustering_unmask_loss += unmask_loss\n",
    "            clustering_unmask_acc += unmask_acc\n",
    "            cnt_unmask += unmask_size\n",
    "\n",
    "            # cross entropy loss and acc over frames with mask\n",
    "            mask_loss, mask_acc, mask_size = _get_loss_acc(seq_score, seq_len, ~mask, target, reduction)\n",
    "            clustering_mask_loss += mask_loss\n",
    "            clustering_mask_acc += mask_acc\n",
    "            cnt_mask += mask_size\n",
    "\n",
    "            # total accuracy\n",
    "            clustering_total_acc += accuracy(seq_score[:seq_len], target[:seq_len]) * seq_len\n",
    "            cnt_total += seq_len\n",
    "\n",
    "        # average across batch\n",
    "        total_mask_loss += clustering_mask_loss / scores.shape[0]\n",
    "        total_unmask_loss += clustering_unmask_loss / scores.shape[0]\n",
    "\n",
    "        total_mask_acc += clustering_mask_acc / cnt_mask\n",
    "        total_unmask_acc += clustering_unmask_acc / cnt_unmask\n",
    "        total_acc += clustering_total_acc / cnt_total\n",
    "    # total_{mask,unmask}_{loss,acc} are sums of losses for different clustering models\n",
    "    return total_mask_loss, total_unmask_loss, total_mask_acc / len(similarity_scores), total_unmask_acc / len(similarity_scores), total_acc / len(\n",
    "        similarity_scores)"
   ]
  },
  {
   "cell_type": "code",
   "execution_count": 5,
   "metadata": {},
   "outputs": [
    {
     "name": "stderr",
     "output_type": "stream",
     "text": [
      "ic| batch: tensor([[[  0,   1,   2],\n",
      "                    [  3,   4,   5],\n",
      "                    [  6,   7,   8],\n",
      "                    [  9,  10,  11],\n",
      "                    [ 12,  13,  14],\n",
      "                    [ 15,  16,  17],\n",
      "                    [ 18,  19,  20],\n",
      "                    [ 21,  22,  23],\n",
      "                    [ 24,  25,  26],\n",
      "                    [ 27,  28,  29],\n",
      "                    [ 30,  31,  32],\n",
      "                    [ 33,  34,  35],\n",
      "                    [ 36,  37,  38],\n",
      "                    [ 39,  40,  41],\n",
      "                    [ 42,  43,  44],\n",
      "                    [ 45,  46,  47],\n",
      "                    [ 48,  49,  50],\n",
      "                    [ 51,  52,  53],\n",
      "                    [ 54,  55,  56],\n",
      "                    [ 57,  58,  59]],\n",
      "           \n",
      "                   [[ 60,  61,  62],\n",
      "                    [ 63,  64,  65],\n",
      "                    [ 66,  67,  68],\n",
      "                    [ 69,  70,  71],\n",
      "                    [ 72,  73,  74],\n",
      "                    [ 75,  76,  77],\n",
      "                    [ 78,  79,  80],\n",
      "                    [ 81,  82,  83],\n",
      "                    [ 84,  85,  86],\n",
      "                    [ 87,  88,  89],\n",
      "                    [ 90,  91,  92],\n",
      "                    [ 93,  94,  95],\n",
      "                    [ 96,  97,  98],\n",
      "                    [ 99, 100, 101],\n",
      "                    [102, 103, 104],\n",
      "                    [105, 106, 107],\n",
      "                    [108, 109, 110],\n",
      "                    [111, 112, 113],\n",
      "                    [114, 115, 116],\n",
      "                    [117, 118, 119]]])\n",
      "ic| frames_cnt: tensor([20, 14])\n"
     ]
    },
    {
     "data": {
      "text/plain": [
       "tensor([20, 14])"
      ]
     },
     "execution_count": 5,
     "metadata": {},
     "output_type": "execute_result"
    }
   ],
   "source": [
    "batch = torch.arange(2 * 20 * 3).view(2,20,3)\n",
    "frames_cnt = torch.tensor([20, 14])\n",
    "ic(batch)\n",
    "ic(frames_cnt)\n"
   ]
  },
  {
   "cell_type": "code",
   "execution_count": 47,
   "metadata": {},
   "outputs": [
    {
     "name": "stderr",
     "output_type": "stream",
     "text": [
      "ic| batch.shape: torch.Size([2, 3, 3])\n",
      "ic| targets.shape: torch.Size([1, 5, 3])\n"
     ]
    },
    {
     "data": {
      "text/plain": [
       "torch.Size([1, 5, 3])"
      ]
     },
     "execution_count": 47,
     "metadata": {},
     "output_type": "execute_result"
    }
   ],
   "source": [
    "batch = torch.tensor([\n",
    "    [[1, 1, 1],\n",
    "     [0, 1, 1],\n",
    "     [0, 0, 1]],\n",
    "    \n",
    "    [[1, 1, 1],\n",
    "     [1, 1, 0],\n",
    "     [0, 0, 0]],\n",
    "]) * 1.0\n",
    "\n",
    "targets = torch.tensor([[\n",
    "    [1, 1, 1],\n",
    "    [0, 1, 1],\n",
    "    [0, 0, 1],\n",
    "    [1, 1, 0],\n",
    "    [1/2, 1/2, 1/2]\n",
    "]]) * 1.0\n",
    "\n",
    "ic(batch.shape)\n",
    "ic(targets.shape)\n"
   ]
  },
  {
   "cell_type": "code",
   "execution_count": 48,
   "metadata": {},
   "outputs": [
    {
     "name": "stderr",
     "output_type": "stream",
     "text": [
      "ic| t.shape: torch.Size([5, 3])\n",
      "ic| sim: tensor([[[1.0000, 0.8165, 0.5774, 0.8165, 1.0000],\n",
      "                  [0.8165, 1.0000, 0.7071, 0.5000, 0.8165],\n",
      "                  [0.5774, 0.7071, 1.0000, 0.0000, 0.5774]],\n",
      "         \n",
      "                 [[1.0000, 0.8165, 0.5774, 0.8165, 1.0000],\n",
      "                  [0.8165, 0.5000, 0.0000, 1.0000, 0.8165],\n",
      "                  [0.0000, 0.0000, 0.0000, 0.0000, 0.0000]]])\n",
      "ic| sim.shape: torch.Size([2, 3, 5])\n"
     ]
    }
   ],
   "source": [
    "for t in targets:\n",
    "    ic(t.shape)\n",
    "    sim = F.cosine_similarity(\n",
    "        batch[:, :, None, :],\n",
    "        t[None, None, :, :],\n",
    "        dim=-1\n",
    "    )\n",
    "    ic(sim)\n",
    "    ic(sim.shape)"
   ]
  },
  {
   "cell_type": "code",
   "execution_count": 33,
   "metadata": {},
   "outputs": [
    {
     "name": "stderr",
     "output_type": "stream",
     "text": [
      "ic| mask_starts: tensor([ 3,  5,  9, 15])\n",
      "ic| index_mask: tensor([ 3,  4,  5,  5,  6,  7,  9, 10, 11, 15, 16, 17])\n",
      "ic| mask: tensor([False, False, False,  True,  True,  True,  True,  True, False,  True,\n",
      "                   True,  True, False, False, False,  True,  True,  True, False, False])\n",
      "ic| mask.shape: torch.Size([20])\n",
      "ic| masked_features: tensor([[ 0,  1,  2],\n",
      "                             [ 3,  4,  5],\n",
      "                             [ 6,  7,  8],\n",
      "                             [-1, -1, -1],\n",
      "                             [-1, -1, -1],\n",
      "                             [-1, -1, -1],\n",
      "                             [-1, -1, -1],\n",
      "                             [-1, -1, -1],\n",
      "                             [24, 25, 26],\n",
      "                             [-1, -1, -1],\n",
      "                             [-1, -1, -1],\n",
      "                             [-1, -1, -1],\n",
      "                             [36, 37, 38],\n",
      "                             [39, 40, 41],\n",
      "                             [42, 43, 44],\n",
      "                             [-1, -1, -1],\n",
      "                             [-1, -1, -1],\n",
      "                             [-1, -1, -1],\n",
      "                             [54, 55, 56],\n",
      "                             [57, 58, 59]])\n",
      "ic| '----------------------------------'\n",
      "ic| mask_starts: tensor([3, 7])\n",
      "ic| index_mask: tensor([3, 4, 5, 7, 8, 9])\n",
      "ic| mask: tensor([False, False, False,  True,  True,  True, False,  True,  True,  True,\n",
      "                  False, False, False, False, False, False, False, False, False, False])\n",
      "ic| mask.shape: torch.Size([20])\n",
      "ic| masked_features: tensor([[ 60,  61,  62],\n",
      "                             [ 63,  64,  65],\n",
      "                             [ 66,  67,  68],\n",
      "                             [ -1,  -1,  -1],\n",
      "                             [ -1,  -1,  -1],\n",
      "                             [ -1,  -1,  -1],\n",
      "                             [ 78,  79,  80],\n",
      "                             [ -1,  -1,  -1],\n",
      "                             [ -1,  -1,  -1],\n",
      "                             [ -1,  -1,  -1],\n",
      "                             [ 90,  91,  92],\n",
      "                             [ 93,  94,  95],\n",
      "                             [ 96,  97,  98],\n",
      "                             [ 99, 100, 101],\n",
      "                             [102, 103, 104],\n",
      "                             [105, 106, 107],\n",
      "                             [108, 109, 110],\n",
      "                             [111, 112, 113],\n",
      "                             [114, 115, 116],\n",
      "                             [117, 118, 119]])\n",
      "ic| '----------------------------------'\n"
     ]
    },
    {
     "data": {
      "text/plain": [
       "tensor([[[  0,   1,   2],\n",
       "         [  3,   4,   5],\n",
       "         [  6,   7,   8],\n",
       "         [ -1,  -1,  -1],\n",
       "         [ -1,  -1,  -1],\n",
       "         [ -1,  -1,  -1],\n",
       "         [ -1,  -1,  -1],\n",
       "         [ -1,  -1,  -1],\n",
       "         [ 24,  25,  26],\n",
       "         [ -1,  -1,  -1],\n",
       "         [ -1,  -1,  -1],\n",
       "         [ -1,  -1,  -1],\n",
       "         [ 36,  37,  38],\n",
       "         [ 39,  40,  41],\n",
       "         [ 42,  43,  44],\n",
       "         [ -1,  -1,  -1],\n",
       "         [ -1,  -1,  -1],\n",
       "         [ -1,  -1,  -1],\n",
       "         [ 54,  55,  56],\n",
       "         [ 57,  58,  59]],\n",
       "\n",
       "        [[ 60,  61,  62],\n",
       "         [ 63,  64,  65],\n",
       "         [ 66,  67,  68],\n",
       "         [ -1,  -1,  -1],\n",
       "         [ -1,  -1,  -1],\n",
       "         [ -1,  -1,  -1],\n",
       "         [ 78,  79,  80],\n",
       "         [ -1,  -1,  -1],\n",
       "         [ -1,  -1,  -1],\n",
       "         [ -1,  -1,  -1],\n",
       "         [ 90,  91,  92],\n",
       "         [ 93,  94,  95],\n",
       "         [ 96,  97,  98],\n",
       "         [ 99, 100, 101],\n",
       "         [102, 103, 104],\n",
       "         [105, 106, 107],\n",
       "         [108, 109, 110],\n",
       "         [111, 112, 113],\n",
       "         [114, 115, 116],\n",
       "         [117, 118, 119]]])"
      ]
     },
     "execution_count": 33,
     "metadata": {},
     "output_type": "execute_result"
    }
   ],
   "source": [
    "l = 3\n",
    "p = 0.2\n",
    "mask_value = torch.tensor(-1)\n",
    "masks = []\n",
    "\n",
    "for i, (features, length) in enumerate(zip(batch, frames_cnt)):\n",
    "    masked_cnt = int(length * p)\n",
    "    mask_starts = torch.randperm(length - l)[:masked_cnt]\n",
    "    mask_starts = torch.sort(mask_starts).values\n",
    "    index_mask = torch.stack([mask_starts + i for i in range(l)], dim=1).view(-1)\n",
    "    \n",
    "    ic(mask_starts)\n",
    "    ic(index_mask)\n",
    "    \n",
    "    mask = torch.zeros(features.shape[0], dtype=torch.bool)\n",
    "    mask.index_fill_(0, index_mask, True)\n",
    "    ic(mask)\n",
    "    ic(mask.shape)\n",
    "    masked_features = features.masked_fill(mask.unsqueeze(1), mask_value)\n",
    "    ic(masked_features)\n",
    "    masks.append(mask)\n",
    "    \n",
    "    ic('----------------------------------')\n",
    "masks = torch.stack(masks)\n",
    "batch.masked_fill(masks.unsqueeze(-1), mask_value)"
   ]
  }
 ],
 "metadata": {
  "kernelspec": {
   "display_name": "Python (pytorch-venv)",
   "language": "python",
   "name": "pytorch-venv"
  },
  "language_info": {
   "codemirror_mode": {
    "name": "ipython",
    "version": 3
   },
   "file_extension": ".py",
   "mimetype": "text/x-python",
   "name": "python",
   "nbconvert_exporter": "python",
   "pygments_lexer": "ipython3",
   "version": "3.9.7"
  }
 },
 "nbformat": 4,
 "nbformat_minor": 4
}
